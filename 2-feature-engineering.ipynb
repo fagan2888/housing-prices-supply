{
 "cells": [
  {
   "cell_type": "code",
   "execution_count": 1,
   "metadata": {
    "collapsed": true
   },
   "outputs": [],
   "source": [
    "import random, pandas as pd\n",
    "from datetime import datetime as dt"
   ]
  },
  {
   "cell_type": "code",
   "execution_count": 2,
   "metadata": {
    "collapsed": true
   },
   "outputs": [],
   "source": [
    "data_folder = 'G:/Geoff/Data/housing-production'\n",
    "data_file = 'merged.csv'\n",
    "save_file = 'cleaned_features.csv'"
   ]
  },
  {
   "cell_type": "markdown",
   "metadata": {},
   "source": [
    "## Load the data and inspect its shape"
   ]
  },
  {
   "cell_type": "code",
   "execution_count": 3,
   "metadata": {},
   "outputs": [
    {
     "data": {
      "text/plain": [
       "(2147507, 21)"
      ]
     },
     "execution_count": 3,
     "metadata": {},
     "output_type": "execute_result"
    }
   ],
   "source": [
    "# load sales+assessor data\n",
    "dtypes = {'ucb_geo_id' : str,\n",
    "          'sr_date_transfer' : str}\n",
    "df_all = pd.read_csv('{}/{}'.format(data_folder, data_file), low_memory=False, dtype=dtypes)\n",
    "df_all.shape"
   ]
  },
  {
   "cell_type": "code",
   "execution_count": 4,
   "metadata": {},
   "outputs": [
    {
     "data": {
      "text/html": [
       "<div>\n",
       "<style>\n",
       "    .dataframe thead tr:only-child th {\n",
       "        text-align: right;\n",
       "    }\n",
       "\n",
       "    .dataframe thead th {\n",
       "        text-align: left;\n",
       "    }\n",
       "\n",
       "    .dataframe tbody tr th {\n",
       "        vertical-align: top;\n",
       "    }\n",
       "</style>\n",
       "<table border=\"1\" class=\"dataframe\">\n",
       "  <thead>\n",
       "    <tr style=\"text-align: right;\">\n",
       "      <th></th>\n",
       "      <th>sr_property_id</th>\n",
       "      <th>SA_PROPERTY_ID</th>\n",
       "      <th>MM_MUNI_NAME</th>\n",
       "      <th>MM_FIPS_MUNI_CODE</th>\n",
       "      <th>SA_SITE_MAIL_SAME</th>\n",
       "      <th>USE_CODE_STD</th>\n",
       "      <th>SA_ZONING</th>\n",
       "      <th>SA_ARCHITECTURE_CODE</th>\n",
       "      <th>SA_BLDG_SQFT</th>\n",
       "      <th>SA_CONSTRUCTION_CODE</th>\n",
       "      <th>...</th>\n",
       "      <th>SA_NBR_BEDRMS</th>\n",
       "      <th>SA_NBR_UNITS</th>\n",
       "      <th>SA_YR_BLT</th>\n",
       "      <th>SA_YR_BLT_EFFECT</th>\n",
       "      <th>sr_date_transfer</th>\n",
       "      <th>ucb_geo_id</th>\n",
       "      <th>ucb_price_sqft</th>\n",
       "      <th>ucb_price_sqft_adj</th>\n",
       "      <th>ucb_condo_subdiv_flag</th>\n",
       "      <th>ucb_condo_subdiv_sqft</th>\n",
       "    </tr>\n",
       "  </thead>\n",
       "  <tbody>\n",
       "    <tr>\n",
       "      <th>0</th>\n",
       "      <td>38443515</td>\n",
       "      <td>38443515</td>\n",
       "      <td>ALAMEDA</td>\n",
       "      <td>1</td>\n",
       "      <td>Y</td>\n",
       "      <td>RSFR</td>\n",
       "      <td>NaN</td>\n",
       "      <td>NaN</td>\n",
       "      <td>1047.0</td>\n",
       "      <td>4.0</td>\n",
       "      <td>...</td>\n",
       "      <td>3.0</td>\n",
       "      <td>1.0</td>\n",
       "      <td>1952.0</td>\n",
       "      <td>1953.0</td>\n",
       "      <td>19880104</td>\n",
       "      <td>06001437400</td>\n",
       "      <td>112</td>\n",
       "      <td>206</td>\n",
       "      <td>0</td>\n",
       "      <td>1047</td>\n",
       "    </tr>\n",
       "    <tr>\n",
       "      <th>1</th>\n",
       "      <td>38275729</td>\n",
       "      <td>38275729</td>\n",
       "      <td>ALAMEDA</td>\n",
       "      <td>1</td>\n",
       "      <td>N</td>\n",
       "      <td>RMFD</td>\n",
       "      <td>NaN</td>\n",
       "      <td>NaN</td>\n",
       "      <td>11880.0</td>\n",
       "      <td>4.0</td>\n",
       "      <td>...</td>\n",
       "      <td>18.0</td>\n",
       "      <td>12.0</td>\n",
       "      <td>1965.0</td>\n",
       "      <td>1965.0</td>\n",
       "      <td>19880104</td>\n",
       "      <td>06001421700</td>\n",
       "      <td>37</td>\n",
       "      <td>68</td>\n",
       "      <td>0</td>\n",
       "      <td>11880</td>\n",
       "    </tr>\n",
       "    <tr>\n",
       "      <th>2</th>\n",
       "      <td>38264302</td>\n",
       "      <td>38264302</td>\n",
       "      <td>ALAMEDA</td>\n",
       "      <td>1</td>\n",
       "      <td>Y</td>\n",
       "      <td>RSFR</td>\n",
       "      <td>NaN</td>\n",
       "      <td>NaN</td>\n",
       "      <td>2584.0</td>\n",
       "      <td>4.0</td>\n",
       "      <td>...</td>\n",
       "      <td>5.0</td>\n",
       "      <td>1.0</td>\n",
       "      <td>1908.0</td>\n",
       "      <td>1920.0</td>\n",
       "      <td>19880104</td>\n",
       "      <td>06001423700</td>\n",
       "      <td>152</td>\n",
       "      <td>281</td>\n",
       "      <td>0</td>\n",
       "      <td>2584</td>\n",
       "    </tr>\n",
       "    <tr>\n",
       "      <th>3</th>\n",
       "      <td>38377769</td>\n",
       "      <td>38377769</td>\n",
       "      <td>ALAMEDA</td>\n",
       "      <td>1</td>\n",
       "      <td>N</td>\n",
       "      <td>RCON</td>\n",
       "      <td>NaN</td>\n",
       "      <td>NaN</td>\n",
       "      <td>1383.0</td>\n",
       "      <td>4.0</td>\n",
       "      <td>...</td>\n",
       "      <td>3.0</td>\n",
       "      <td>183.0</td>\n",
       "      <td>1987.0</td>\n",
       "      <td>1987.0</td>\n",
       "      <td>19880104</td>\n",
       "      <td>06001444400</td>\n",
       "      <td>90</td>\n",
       "      <td>167</td>\n",
       "      <td>0</td>\n",
       "      <td>1383</td>\n",
       "    </tr>\n",
       "    <tr>\n",
       "      <th>4</th>\n",
       "      <td>38490265</td>\n",
       "      <td>38490265</td>\n",
       "      <td>ALAMEDA</td>\n",
       "      <td>1</td>\n",
       "      <td>Y</td>\n",
       "      <td>RSFR</td>\n",
       "      <td>NaN</td>\n",
       "      <td>NaN</td>\n",
       "      <td>3499.0</td>\n",
       "      <td>4.0</td>\n",
       "      <td>...</td>\n",
       "      <td>4.0</td>\n",
       "      <td>1.0</td>\n",
       "      <td>1996.0</td>\n",
       "      <td>1997.0</td>\n",
       "      <td>19880104</td>\n",
       "      <td>06001443103</td>\n",
       "      <td>56</td>\n",
       "      <td>104</td>\n",
       "      <td>0</td>\n",
       "      <td>3499</td>\n",
       "    </tr>\n",
       "  </tbody>\n",
       "</table>\n",
       "<p>5 rows × 21 columns</p>\n",
       "</div>"
      ],
      "text/plain": [
       "   sr_property_id  SA_PROPERTY_ID MM_MUNI_NAME  MM_FIPS_MUNI_CODE  \\\n",
       "0        38443515        38443515      ALAMEDA                  1   \n",
       "1        38275729        38275729      ALAMEDA                  1   \n",
       "2        38264302        38264302      ALAMEDA                  1   \n",
       "3        38377769        38377769      ALAMEDA                  1   \n",
       "4        38490265        38490265      ALAMEDA                  1   \n",
       "\n",
       "  SA_SITE_MAIL_SAME USE_CODE_STD SA_ZONING  SA_ARCHITECTURE_CODE  \\\n",
       "0                 Y         RSFR       NaN                   NaN   \n",
       "1                 N         RMFD       NaN                   NaN   \n",
       "2                 Y         RSFR       NaN                   NaN   \n",
       "3                 N         RCON       NaN                   NaN   \n",
       "4                 Y         RSFR       NaN                   NaN   \n",
       "\n",
       "   SA_BLDG_SQFT  SA_CONSTRUCTION_CODE          ...            SA_NBR_BEDRMS  \\\n",
       "0        1047.0                   4.0          ...                      3.0   \n",
       "1       11880.0                   4.0          ...                     18.0   \n",
       "2        2584.0                   4.0          ...                      5.0   \n",
       "3        1383.0                   4.0          ...                      3.0   \n",
       "4        3499.0                   4.0          ...                      4.0   \n",
       "\n",
       "   SA_NBR_UNITS  SA_YR_BLT  SA_YR_BLT_EFFECT  sr_date_transfer   ucb_geo_id  \\\n",
       "0           1.0     1952.0            1953.0          19880104  06001437400   \n",
       "1          12.0     1965.0            1965.0          19880104  06001421700   \n",
       "2           1.0     1908.0            1920.0          19880104  06001423700   \n",
       "3         183.0     1987.0            1987.0          19880104  06001444400   \n",
       "4           1.0     1996.0            1997.0          19880104  06001443103   \n",
       "\n",
       "  ucb_price_sqft  ucb_price_sqft_adj  ucb_condo_subdiv_flag  \\\n",
       "0            112                 206                      0   \n",
       "1             37                  68                      0   \n",
       "2            152                 281                      0   \n",
       "3             90                 167                      0   \n",
       "4             56                 104                      0   \n",
       "\n",
       "   ucb_condo_subdiv_sqft  \n",
       "0                   1047  \n",
       "1                  11880  \n",
       "2                   2584  \n",
       "3                   1383  \n",
       "4                   3499  \n",
       "\n",
       "[5 rows x 21 columns]"
      ]
     },
     "execution_count": 4,
     "metadata": {},
     "output_type": "execute_result"
    }
   ],
   "source": [
    "df_all.head()"
   ]
  },
  {
   "cell_type": "code",
   "execution_count": 5,
   "metadata": {
    "scrolled": false
   },
   "outputs": [
    {
     "data": {
      "text/plain": [
       "sr_property_id              38443515\n",
       "SA_PROPERTY_ID              38443515\n",
       "MM_MUNI_NAME                 ALAMEDA\n",
       "MM_FIPS_MUNI_CODE                  1\n",
       "SA_SITE_MAIL_SAME                  Y\n",
       "USE_CODE_STD                    RSFR\n",
       "SA_ZONING                        NaN\n",
       "SA_ARCHITECTURE_CODE             NaN\n",
       "SA_BLDG_SQFT                    1047\n",
       "SA_CONSTRUCTION_CODE               4\n",
       "SA_NBR_BATH_DQ                     0\n",
       "SA_NBR_BEDRMS                      3\n",
       "SA_NBR_UNITS                       1\n",
       "SA_YR_BLT                       1952\n",
       "SA_YR_BLT_EFFECT                1953\n",
       "sr_date_transfer            19880104\n",
       "ucb_geo_id               06001437400\n",
       "ucb_price_sqft                   112\n",
       "ucb_price_sqft_adj               206\n",
       "ucb_condo_subdiv_flag              0\n",
       "ucb_condo_subdiv_sqft           1047\n",
       "Name: 0, dtype: object"
      ]
     },
     "execution_count": 5,
     "metadata": {},
     "output_type": "execute_result"
    }
   ],
   "source": [
    "df_all.iloc[0]"
   ]
  },
  {
   "cell_type": "code",
   "execution_count": 6,
   "metadata": {},
   "outputs": [
    {
     "name": "stdout",
     "output_type": "stream",
     "text": [
      "19880101\n",
      "19880101\n"
     ]
    }
   ],
   "source": [
    "# what are the first and last sale dates?\n",
    "print(df_all['sr_date_transfer'].min())\n",
    "print(df_all['sr_date_transfer'].min())"
   ]
  },
  {
   "cell_type": "markdown",
   "metadata": {},
   "source": [
    "## Divide data into before/after\n",
    "\n",
    "Let dummy variable `after` represent if observation at year1 instead of year0."
   ]
  },
  {
   "cell_type": "code",
   "execution_count": 7,
   "metadata": {
    "collapsed": true
   },
   "outputs": [],
   "source": [
    "# define which years we will look at sales records for, to divide data into before/after\n",
    "sale_year = 'sr_date_transfer_year'\n",
    "year0 = 2009\n",
    "year1 = 2014"
   ]
  },
  {
   "cell_type": "code",
   "execution_count": 8,
   "metadata": {},
   "outputs": [
    {
     "name": "stdout",
     "output_type": "stream",
     "text": [
      "cannot convert \"19909222\"\n",
      "cannot convert \"19909222\"\n",
      "cannot convert \"19909222\"\n",
      "cannot convert \"19909222\"\n"
     ]
    }
   ],
   "source": [
    "# parse date string to datetime object and extract year\n",
    "# have to do this instead of nice fast pd.to_datetime() style because we \n",
    "# have to handle errors from fields with bad date data\n",
    "def extract_date(date, format='%Y%m%d'):\n",
    "    try:\n",
    "        #return pd.to_datetime(date, format=format)\n",
    "        return dt.strptime(date, format)\n",
    "    except:\n",
    "        print('cannot convert \"{}\"'.format(date))\n",
    "        \n",
    "df_all['sr_date_transfer'] = df_all['sr_date_transfer'].map(extract_date)\n",
    "df_all['sr_date_transfer_year'] = df_all['sr_date_transfer'].map(lambda x: x.year)\n",
    "df_all.drop(labels='sr_date_transfer', axis='columns', inplace=True)"
   ]
  },
  {
   "cell_type": "code",
   "execution_count": 9,
   "metadata": {
    "collapsed": true
   },
   "outputs": [],
   "source": [
    "df = pd.DataFrame(df_all[df_all[sale_year].isin([year0, year1])])\n",
    "df[sale_year] = df[sale_year].astype(int)\n",
    "df['after'] = (df[sale_year]==year1).astype(int)"
   ]
  },
  {
   "cell_type": "code",
   "execution_count": 10,
   "metadata": {},
   "outputs": [
    {
     "data": {
      "text/html": [
       "<div>\n",
       "<style>\n",
       "    .dataframe thead tr:only-child th {\n",
       "        text-align: right;\n",
       "    }\n",
       "\n",
       "    .dataframe thead th {\n",
       "        text-align: left;\n",
       "    }\n",
       "\n",
       "    .dataframe tbody tr th {\n",
       "        vertical-align: top;\n",
       "    }\n",
       "</style>\n",
       "<table border=\"1\" class=\"dataframe\">\n",
       "  <thead>\n",
       "    <tr style=\"text-align: right;\">\n",
       "      <th>sr_date_transfer_year</th>\n",
       "      <th>2009</th>\n",
       "      <th>2014</th>\n",
       "    </tr>\n",
       "    <tr>\n",
       "      <th>MM_MUNI_NAME</th>\n",
       "      <th></th>\n",
       "      <th></th>\n",
       "    </tr>\n",
       "  </thead>\n",
       "  <tbody>\n",
       "    <tr>\n",
       "      <th>ALAMEDA</th>\n",
       "      <td>15341</td>\n",
       "      <td>5034</td>\n",
       "    </tr>\n",
       "    <tr>\n",
       "      <th>CONTRA COSTA</th>\n",
       "      <td>16968</td>\n",
       "      <td>4707</td>\n",
       "    </tr>\n",
       "    <tr>\n",
       "      <th>MARIN</th>\n",
       "      <td>1597</td>\n",
       "      <td>827</td>\n",
       "    </tr>\n",
       "    <tr>\n",
       "      <th>NAPA</th>\n",
       "      <td>1172</td>\n",
       "      <td>422</td>\n",
       "    </tr>\n",
       "    <tr>\n",
       "      <th>SAN FRANCISCO</th>\n",
       "      <td>4398</td>\n",
       "      <td>1803</td>\n",
       "    </tr>\n",
       "    <tr>\n",
       "      <th>SAN MATEO</th>\n",
       "      <td>4718</td>\n",
       "      <td>1728</td>\n",
       "    </tr>\n",
       "    <tr>\n",
       "      <th>SANTA CLARA</th>\n",
       "      <td>15698</td>\n",
       "      <td>5352</td>\n",
       "    </tr>\n",
       "    <tr>\n",
       "      <th>SOLANO</th>\n",
       "      <td>7994</td>\n",
       "      <td>2022</td>\n",
       "    </tr>\n",
       "    <tr>\n",
       "      <th>SONOMA</th>\n",
       "      <td>4165</td>\n",
       "      <td>1457</td>\n",
       "    </tr>\n",
       "  </tbody>\n",
       "</table>\n",
       "</div>"
      ],
      "text/plain": [
       "sr_date_transfer_year   2009  2014\n",
       "MM_MUNI_NAME                      \n",
       "ALAMEDA                15341  5034\n",
       "CONTRA COSTA           16968  4707\n",
       "MARIN                   1597   827\n",
       "NAPA                    1172   422\n",
       "SAN FRANCISCO           4398  1803\n",
       "SAN MATEO               4718  1728\n",
       "SANTA CLARA            15698  5352\n",
       "SOLANO                  7994  2022\n",
       "SONOMA                  4165  1457"
      ]
     },
     "execution_count": 10,
     "metadata": {},
     "output_type": "execute_result"
    }
   ],
   "source": [
    "# how many observations do we have at each year in each county?\n",
    "df.groupby(['MM_MUNI_NAME',sale_year])['ucb_price_sqft_adj'].count().unstack()"
   ]
  },
  {
   "cell_type": "code",
   "execution_count": 11,
   "metadata": {},
   "outputs": [
    {
     "data": {
      "text/html": [
       "<div>\n",
       "<style>\n",
       "    .dataframe thead tr:only-child th {\n",
       "        text-align: right;\n",
       "    }\n",
       "\n",
       "    .dataframe thead th {\n",
       "        text-align: left;\n",
       "    }\n",
       "\n",
       "    .dataframe tbody tr th {\n",
       "        vertical-align: top;\n",
       "    }\n",
       "</style>\n",
       "<table border=\"1\" class=\"dataframe\">\n",
       "  <thead>\n",
       "    <tr style=\"text-align: right;\">\n",
       "      <th>sr_date_transfer_year</th>\n",
       "      <th>2009</th>\n",
       "      <th>2014</th>\n",
       "      <th>pct_change</th>\n",
       "    </tr>\n",
       "    <tr>\n",
       "      <th>MM_MUNI_NAME</th>\n",
       "      <th></th>\n",
       "      <th></th>\n",
       "      <th></th>\n",
       "    </tr>\n",
       "  </thead>\n",
       "  <tbody>\n",
       "    <tr>\n",
       "      <th>ALAMEDA</th>\n",
       "      <td>244.92</td>\n",
       "      <td>338.64</td>\n",
       "      <td>1.382656</td>\n",
       "    </tr>\n",
       "    <tr>\n",
       "      <th>CONTRA COSTA</th>\n",
       "      <td>168.29</td>\n",
       "      <td>250.55</td>\n",
       "      <td>1.488799</td>\n",
       "    </tr>\n",
       "    <tr>\n",
       "      <th>MARIN</th>\n",
       "      <td>382.41</td>\n",
       "      <td>473.72</td>\n",
       "      <td>1.238775</td>\n",
       "    </tr>\n",
       "    <tr>\n",
       "      <th>NAPA</th>\n",
       "      <td>223.66</td>\n",
       "      <td>293.31</td>\n",
       "      <td>1.311410</td>\n",
       "    </tr>\n",
       "    <tr>\n",
       "      <th>SAN FRANCISCO</th>\n",
       "      <td>529.85</td>\n",
       "      <td>696.92</td>\n",
       "      <td>1.315316</td>\n",
       "    </tr>\n",
       "    <tr>\n",
       "      <th>SAN MATEO</th>\n",
       "      <td>424.71</td>\n",
       "      <td>547.78</td>\n",
       "      <td>1.289774</td>\n",
       "    </tr>\n",
       "    <tr>\n",
       "      <th>SANTA CLARA</th>\n",
       "      <td>327.96</td>\n",
       "      <td>447.39</td>\n",
       "      <td>1.364160</td>\n",
       "    </tr>\n",
       "    <tr>\n",
       "      <th>SOLANO</th>\n",
       "      <td>128.04</td>\n",
       "      <td>163.38</td>\n",
       "      <td>1.276007</td>\n",
       "    </tr>\n",
       "    <tr>\n",
       "      <th>SONOMA</th>\n",
       "      <td>216.12</td>\n",
       "      <td>270.16</td>\n",
       "      <td>1.250046</td>\n",
       "    </tr>\n",
       "  </tbody>\n",
       "</table>\n",
       "</div>"
      ],
      "text/plain": [
       "sr_date_transfer_year    2009    2014  pct_change\n",
       "MM_MUNI_NAME                                     \n",
       "ALAMEDA                244.92  338.64    1.382656\n",
       "CONTRA COSTA           168.29  250.55    1.488799\n",
       "MARIN                  382.41  473.72    1.238775\n",
       "NAPA                   223.66  293.31    1.311410\n",
       "SAN FRANCISCO          529.85  696.92    1.315316\n",
       "SAN MATEO              424.71  547.78    1.289774\n",
       "SANTA CLARA            327.96  447.39    1.364160\n",
       "SOLANO                 128.04  163.38    1.276007\n",
       "SONOMA                 216.12  270.16    1.250046"
      ]
     },
     "execution_count": 11,
     "metadata": {},
     "output_type": "execute_result"
    }
   ],
   "source": [
    "# how much did mean sales prices change in each county from year0 to year1?\n",
    "diff = df.groupby(['MM_MUNI_NAME',sale_year])['ucb_price_sqft_adj'].mean().unstack().round(2)\n",
    "diff['pct_change'] = (diff[year1] / diff[year0])\n",
    "diff"
   ]
  },
  {
   "cell_type": "code",
   "execution_count": 12,
   "metadata": {},
   "outputs": [
    {
     "data": {
      "text/plain": [
       "95403"
      ]
     },
     "execution_count": 12,
     "metadata": {},
     "output_type": "execute_result"
    }
   ],
   "source": [
    "# how many rows in data set now?\n",
    "len(df)"
   ]
  },
  {
   "cell_type": "markdown",
   "metadata": {},
   "source": [
    "## Divide data into treatment/control\n",
    "\n",
    "Assign to treatment group if property had at least *n* new housing units built within *m* meters of it between year0 and year1."
   ]
  },
  {
   "cell_type": "code",
   "execution_count": 13,
   "metadata": {
    "collapsed": true
   },
   "outputs": [],
   "source": [
    "# proximity to new building construction\n"
   ]
  },
  {
   "cell_type": "code",
   "execution_count": 14,
   "metadata": {
    "collapsed": true
   },
   "outputs": [],
   "source": [
    "# until we have housing units built var, just assign to groups randomly\n",
    "df['treat'] = df.index.map(lambda x: random.randint(0, 1))\n",
    "\n",
    "# or say that 'single family residence' is the treatment group\n",
    "df['treat'] = (df['USE_CODE_STD']=='RSFR').astype(int)"
   ]
  },
  {
   "cell_type": "markdown",
   "metadata": {},
   "source": [
    "## Feature engineering"
   ]
  },
  {
   "cell_type": "code",
   "execution_count": 15,
   "metadata": {
    "collapsed": true
   },
   "outputs": [],
   "source": [
    "# how old was the building at year1\n",
    "df['age'] = year1 - df['SA_YR_BLT']"
   ]
  },
  {
   "cell_type": "code",
   "execution_count": 16,
   "metadata": {
    "collapsed": true
   },
   "outputs": [],
   "source": [
    "# convert SA_SITE_MAIL_SAME to ternary variable\n",
    "# to make it a binary dummy, we'll have to handle the unknown \"U\" cases by dropping them\n",
    "mapping = {'N' : 0,\n",
    "           'Y' : 1,\n",
    "           'U' : 2}\n",
    "df['SA_SITE_MAIL_SAME'] = df['SA_SITE_MAIL_SAME'].replace(mapping)\n",
    "mask = ~(df['SA_SITE_MAIL_SAME']==2)\n",
    "df = df.loc[mask]"
   ]
  },
  {
   "cell_type": "code",
   "execution_count": 17,
   "metadata": {
    "collapsed": true
   },
   "outputs": [],
   "source": [
    "# dummy variable for if sale was after construction (1 if yes, 0 if no)\n",
    "df['sale_after_construction'] = df['sr_date_transfer_year'] > df['SA_YR_BLT']\n",
    "df['sale_after_construction'] = df['sale_after_construction'].astype(int)"
   ]
  },
  {
   "cell_type": "code",
   "execution_count": 18,
   "metadata": {},
   "outputs": [
    {
     "data": {
      "text/plain": [
       "354186         inf\n",
       "354321    2.000000\n",
       "355893    3.000000\n",
       "356237    4.000000\n",
       "356270    3.000000\n",
       "dtype: float64"
      ]
     },
     "execution_count": 18,
     "metadata": {},
     "output_type": "execute_result"
    }
   ],
   "source": [
    "# adjust bathrooms and bedrooms by the number of units?\n",
    "# Sam created a flag for condo subdivision in the sales dataset that may help with the units issue from the assessor\n",
    "# but handle zero units to not get inf values\n",
    "bedrooms_per_unit = df['SA_NBR_BEDRMS'] / df['SA_NBR_UNITS']\n",
    "bedrooms_per_unit.head()"
   ]
  },
  {
   "cell_type": "code",
   "execution_count": 19,
   "metadata": {
    "collapsed": true
   },
   "outputs": [],
   "source": [
    "# retain only certain use codes, and convert to dummies\n"
   ]
  },
  {
   "cell_type": "code",
   "execution_count": 20,
   "metadata": {
    "collapsed": true
   },
   "outputs": [],
   "source": [
    "# identify subsidized units (and drop them?)\n"
   ]
  },
  {
   "cell_type": "code",
   "execution_count": 21,
   "metadata": {
    "collapsed": true
   },
   "outputs": [],
   "source": [
    "# Other independent variables we'll add in later are at the neighborhood level, which we can merge in with the fips numbers.\n"
   ]
  },
  {
   "cell_type": "code",
   "execution_count": 22,
   "metadata": {},
   "outputs": [
    {
     "data": {
      "text/plain": [
       "sr_property_id                38359698\n",
       "SA_PROPERTY_ID                38359698\n",
       "MM_MUNI_NAME                   ALAMEDA\n",
       "MM_FIPS_MUNI_CODE                    1\n",
       "SA_SITE_MAIL_SAME                    0\n",
       "USE_CODE_STD                      RSFR\n",
       "SA_ZONING                          NaN\n",
       "SA_ARCHITECTURE_CODE               NaN\n",
       "SA_BLDG_SQFT                       570\n",
       "SA_CONSTRUCTION_CODE                 4\n",
       "SA_NBR_BATH_DQ                       0\n",
       "SA_NBR_BEDRMS                        1\n",
       "SA_NBR_UNITS                         0\n",
       "SA_YR_BLT                         1934\n",
       "SA_YR_BLT_EFFECT                  1934\n",
       "ucb_geo_id                 06001430102\n",
       "ucb_price_sqft                     821\n",
       "ucb_price_sqft_adj                 837\n",
       "ucb_condo_subdiv_flag                0\n",
       "ucb_condo_subdiv_sqft              570\n",
       "sr_date_transfer_year             2009\n",
       "after                                0\n",
       "treat                                1\n",
       "age                                 80\n",
       "sale_after_construction              1\n",
       "Name: 354186, dtype: object"
      ]
     },
     "execution_count": 22,
     "metadata": {},
     "output_type": "execute_result"
    }
   ],
   "source": [
    "df.iloc[0]"
   ]
  },
  {
   "cell_type": "code",
   "execution_count": 23,
   "metadata": {
    "collapsed": true
   },
   "outputs": [],
   "source": [
    "df.to_csv('{}/{}'.format(data_folder, save_file), index=False, encoding='utf-8')"
   ]
  },
  {
   "cell_type": "code",
   "execution_count": null,
   "metadata": {
    "collapsed": true
   },
   "outputs": [],
   "source": []
  },
  {
   "cell_type": "code",
   "execution_count": null,
   "metadata": {
    "collapsed": true
   },
   "outputs": [],
   "source": []
  },
  {
   "cell_type": "code",
   "execution_count": null,
   "metadata": {
    "collapsed": true
   },
   "outputs": [],
   "source": []
  },
  {
   "cell_type": "code",
   "execution_count": null,
   "metadata": {
    "collapsed": true
   },
   "outputs": [],
   "source": []
  },
  {
   "cell_type": "markdown",
   "metadata": {},
   "source": [
    "## Exploring..."
   ]
  },
  {
   "cell_type": "code",
   "execution_count": 24,
   "metadata": {},
   "outputs": [
    {
     "data": {
      "text/plain": [
       "RCON    6629\n",
       "RSFR    6008\n",
       "RMFD     284\n",
       "RMSC     156\n",
       "RAPT     119\n",
       "RDUP      30\n",
       "RCOO      11\n",
       "RMOB       4\n",
       "RTRI       3\n",
       "RQUA       2\n",
       "Name: USE_CODE_STD, dtype: int64"
      ]
     },
     "execution_count": 24,
     "metadata": {},
     "output_type": "execute_result"
    }
   ],
   "source": [
    "mask_0units = df['SA_NBR_UNITS']==0\n",
    "df[mask_0units]['USE_CODE_STD'].value_counts()"
   ]
  },
  {
   "cell_type": "markdown",
   "metadata": {},
   "source": [
    "DataQuick Residential Use Codes\n",
    "\n",
    "```\n",
    "RAPT\tMulti-Family Res (5+ Units)\n",
    "RCON\tCondominium, PUD\n",
    "RCOO\tCooperative\n",
    "RDUP\tDuplex\n",
    "RMFD\tMulti-Family Dwelling (2-4 Units)\n",
    "RMOB\tMobile / Manufactured Home\n",
    "RMSC\tMiscellaneous Residential\n",
    "RQUA\tQuadraplex\n",
    "RSFR\tSingle Family Residence\n",
    "RTIM\tTimeshare\n",
    "RTRI\tTriplex\n",
    "```"
   ]
  },
  {
   "cell_type": "code",
   "execution_count": null,
   "metadata": {
    "collapsed": true
   },
   "outputs": [],
   "source": []
  },
  {
   "cell_type": "code",
   "execution_count": 25,
   "metadata": {},
   "outputs": [
    {
     "data": {
      "text/plain": [
       "3100.0    1\n",
       "5800.0    1\n",
       "6400.0    1\n",
       "6500.0    1\n",
       "7300.0    1\n",
       "Name: SA_NBR_UNITS, dtype: int64"
      ]
     },
     "execution_count": 25,
     "metadata": {},
     "output_type": "execute_result"
    }
   ],
   "source": [
    "df[df['USE_CODE_STD']=='RSFR']['SA_NBR_UNITS'].value_counts().sort_index().tail()"
   ]
  },
  {
   "cell_type": "code",
   "execution_count": 26,
   "metadata": {
    "collapsed": true
   },
   "outputs": [],
   "source": [
    "counts = df.groupby(['MM_MUNI_NAME', 'USE_CODE_STD'])['sr_property_id'].count()"
   ]
  },
  {
   "cell_type": "code",
   "execution_count": 27,
   "metadata": {
    "collapsed": true
   },
   "outputs": [],
   "source": [
    "df_0br = df[df['SA_NBR_BEDRMS'] <= 0]\n",
    "df_0ba = df[df['SA_NBR_BATH_DQ'] <= 0]\n",
    "df_0units = df[df['SA_NBR_UNITS'] <= 0]"
   ]
  },
  {
   "cell_type": "code",
   "execution_count": 28,
   "metadata": {
    "collapsed": true
   },
   "outputs": [],
   "source": [
    "counts_0br = df_0br.groupby(['MM_MUNI_NAME', 'USE_CODE_STD'])['sr_property_id'].count()\n",
    "counts_0ba = df_0ba.groupby(['MM_MUNI_NAME', 'USE_CODE_STD'])['sr_property_id'].count()\n",
    "counts_0units = df_0units.groupby(['MM_MUNI_NAME', 'USE_CODE_STD'])['sr_property_id'].count()"
   ]
  },
  {
   "cell_type": "code",
   "execution_count": 29,
   "metadata": {
    "collapsed": true
   },
   "outputs": [],
   "source": [
    "df_counts = pd.DataFrame({'count_observations':counts,\n",
    "                          'with_0br':counts_0br/counts,\n",
    "                          'with_0ba':counts_0ba/counts,\n",
    "                          'with_0units':counts_0units/counts}).fillna(0)"
   ]
  },
  {
   "cell_type": "code",
   "execution_count": 30,
   "metadata": {
    "collapsed": true
   },
   "outputs": [],
   "source": [
    "df_counts.to_csv('count-zeroes.csv', index=True, encoding='utf-8')"
   ]
  },
  {
   "cell_type": "code",
   "execution_count": null,
   "metadata": {
    "collapsed": true
   },
   "outputs": [],
   "source": []
  },
  {
   "cell_type": "code",
   "execution_count": 31,
   "metadata": {},
   "outputs": [
    {
     "data": {
      "text/html": [
       "<div>\n",
       "<style>\n",
       "    .dataframe thead tr:only-child th {\n",
       "        text-align: right;\n",
       "    }\n",
       "\n",
       "    .dataframe thead th {\n",
       "        text-align: left;\n",
       "    }\n",
       "\n",
       "    .dataframe tbody tr th {\n",
       "        vertical-align: top;\n",
       "    }\n",
       "</style>\n",
       "<table border=\"1\" class=\"dataframe\">\n",
       "  <thead>\n",
       "    <tr style=\"text-align: right;\">\n",
       "      <th></th>\n",
       "      <th>sr_property_id</th>\n",
       "      <th>SA_PROPERTY_ID</th>\n",
       "      <th>MM_MUNI_NAME</th>\n",
       "      <th>MM_FIPS_MUNI_CODE</th>\n",
       "      <th>SA_SITE_MAIL_SAME</th>\n",
       "      <th>USE_CODE_STD</th>\n",
       "      <th>SA_ZONING</th>\n",
       "      <th>SA_ARCHITECTURE_CODE</th>\n",
       "      <th>SA_BLDG_SQFT</th>\n",
       "      <th>SA_CONSTRUCTION_CODE</th>\n",
       "      <th>...</th>\n",
       "      <th>ucb_geo_id</th>\n",
       "      <th>ucb_price_sqft</th>\n",
       "      <th>ucb_price_sqft_adj</th>\n",
       "      <th>ucb_condo_subdiv_flag</th>\n",
       "      <th>ucb_condo_subdiv_sqft</th>\n",
       "      <th>sr_date_transfer_year</th>\n",
       "      <th>after</th>\n",
       "      <th>treat</th>\n",
       "      <th>age</th>\n",
       "      <th>sale_after_construction</th>\n",
       "    </tr>\n",
       "  </thead>\n",
       "  <tbody>\n",
       "    <tr>\n",
       "      <th>1750165</th>\n",
       "      <td>30567769</td>\n",
       "      <td>30567769</td>\n",
       "      <td>SANTA CLARA</td>\n",
       "      <td>85</td>\n",
       "      <td>1</td>\n",
       "      <td>RSFR</td>\n",
       "      <td>R1-8</td>\n",
       "      <td>NaN</td>\n",
       "      <td>1137.0</td>\n",
       "      <td>4.0</td>\n",
       "      <td>...</td>\n",
       "      <td>06085503208</td>\n",
       "      <td>242</td>\n",
       "      <td>248</td>\n",
       "      <td>0</td>\n",
       "      <td>1137</td>\n",
       "      <td>2009</td>\n",
       "      <td>0</td>\n",
       "      <td>1</td>\n",
       "      <td>56.0</td>\n",
       "      <td>1</td>\n",
       "    </tr>\n",
       "    <tr>\n",
       "      <th>1758721</th>\n",
       "      <td>30539102</td>\n",
       "      <td>30539102</td>\n",
       "      <td>SANTA CLARA</td>\n",
       "      <td>85</td>\n",
       "      <td>0</td>\n",
       "      <td>RSFR</td>\n",
       "      <td>R1-8</td>\n",
       "      <td>NaN</td>\n",
       "      <td>1484.0</td>\n",
       "      <td>4.0</td>\n",
       "      <td>...</td>\n",
       "      <td>06085503322</td>\n",
       "      <td>256</td>\n",
       "      <td>261</td>\n",
       "      <td>0</td>\n",
       "      <td>1484</td>\n",
       "      <td>2009</td>\n",
       "      <td>0</td>\n",
       "      <td>1</td>\n",
       "      <td>49.0</td>\n",
       "      <td>1</td>\n",
       "    </tr>\n",
       "    <tr>\n",
       "      <th>1761517</th>\n",
       "      <td>30539067</td>\n",
       "      <td>30539067</td>\n",
       "      <td>SANTA CLARA</td>\n",
       "      <td>85</td>\n",
       "      <td>0</td>\n",
       "      <td>RSFR</td>\n",
       "      <td>R1-8</td>\n",
       "      <td>NaN</td>\n",
       "      <td>1564.0</td>\n",
       "      <td>4.0</td>\n",
       "      <td>...</td>\n",
       "      <td>06085503322</td>\n",
       "      <td>223</td>\n",
       "      <td>228</td>\n",
       "      <td>0</td>\n",
       "      <td>1564</td>\n",
       "      <td>2009</td>\n",
       "      <td>0</td>\n",
       "      <td>1</td>\n",
       "      <td>49.0</td>\n",
       "      <td>1</td>\n",
       "    </tr>\n",
       "    <tr>\n",
       "      <th>1825646</th>\n",
       "      <td>30437231</td>\n",
       "      <td>30437231</td>\n",
       "      <td>SANTA CLARA</td>\n",
       "      <td>85</td>\n",
       "      <td>1</td>\n",
       "      <td>RSFR</td>\n",
       "      <td>R1-8</td>\n",
       "      <td>NaN</td>\n",
       "      <td>1652.0</td>\n",
       "      <td>4.0</td>\n",
       "      <td>...</td>\n",
       "      <td>06085502908</td>\n",
       "      <td>544</td>\n",
       "      <td>501</td>\n",
       "      <td>0</td>\n",
       "      <td>1652</td>\n",
       "      <td>2014</td>\n",
       "      <td>1</td>\n",
       "      <td>1</td>\n",
       "      <td>41.0</td>\n",
       "      <td>1</td>\n",
       "    </tr>\n",
       "  </tbody>\n",
       "</table>\n",
       "<p>4 rows × 25 columns</p>\n",
       "</div>"
      ],
      "text/plain": [
       "         sr_property_id  SA_PROPERTY_ID MM_MUNI_NAME  MM_FIPS_MUNI_CODE  \\\n",
       "1750165        30567769        30567769  SANTA CLARA                 85   \n",
       "1758721        30539102        30539102  SANTA CLARA                 85   \n",
       "1761517        30539067        30539067  SANTA CLARA                 85   \n",
       "1825646        30437231        30437231  SANTA CLARA                 85   \n",
       "\n",
       "         SA_SITE_MAIL_SAME USE_CODE_STD SA_ZONING  SA_ARCHITECTURE_CODE  \\\n",
       "1750165                  1         RSFR      R1-8                   NaN   \n",
       "1758721                  0         RSFR      R1-8                   NaN   \n",
       "1761517                  0         RSFR      R1-8                   NaN   \n",
       "1825646                  1         RSFR      R1-8                   NaN   \n",
       "\n",
       "         SA_BLDG_SQFT  SA_CONSTRUCTION_CODE           ...             \\\n",
       "1750165        1137.0                   4.0           ...              \n",
       "1758721        1484.0                   4.0           ...              \n",
       "1761517        1564.0                   4.0           ...              \n",
       "1825646        1652.0                   4.0           ...              \n",
       "\n",
       "          ucb_geo_id  ucb_price_sqft  ucb_price_sqft_adj  \\\n",
       "1750165  06085503208             242                 248   \n",
       "1758721  06085503322             256                 261   \n",
       "1761517  06085503322             223                 228   \n",
       "1825646  06085502908             544                 501   \n",
       "\n",
       "         ucb_condo_subdiv_flag  ucb_condo_subdiv_sqft sr_date_transfer_year  \\\n",
       "1750165                      0                   1137                  2009   \n",
       "1758721                      0                   1484                  2009   \n",
       "1761517                      0                   1564                  2009   \n",
       "1825646                      0                   1652                  2014   \n",
       "\n",
       "         after  treat   age  sale_after_construction  \n",
       "1750165      0      1  56.0                        1  \n",
       "1758721      0      1  49.0                        1  \n",
       "1761517      0      1  49.0                        1  \n",
       "1825646      1      1  41.0                        1  \n",
       "\n",
       "[4 rows x 25 columns]"
      ]
     },
     "execution_count": 31,
     "metadata": {},
     "output_type": "execute_result"
    }
   ],
   "source": [
    "df[(df['USE_CODE_STD']=='RSFR') & (df['SA_NBR_UNITS']>=5000)].sort_values('SA_NBR_UNITS')"
   ]
  },
  {
   "cell_type": "code",
   "execution_count": 32,
   "metadata": {
    "collapsed": true
   },
   "outputs": [],
   "source": [
    "# why are there many RSFRs with 5,000+ units?\n",
    "# drop all mobile and timeshare?"
   ]
  },
  {
   "cell_type": "code",
   "execution_count": 33,
   "metadata": {
    "collapsed": true
   },
   "outputs": [],
   "source": [
    "multi_unit_uses = ['RAPT', 'RCON', 'RCOO', 'RDUP', 'RMFD', 'RMSC', 'RQUA', 'RTRI']\n",
    "mask_multi_unit = df['USE_CODE_STD'].isin(multi_unit_uses)"
   ]
  },
  {
   "cell_type": "code",
   "execution_count": 34,
   "metadata": {
    "collapsed": true
   },
   "outputs": [],
   "source": [
    "df_filtered = df[~(mask_0units & mask_multi_unit)]"
   ]
  },
  {
   "cell_type": "code",
   "execution_count": 35,
   "metadata": {},
   "outputs": [
    {
     "name": "stdout",
     "output_type": "stream",
     "text": [
      "95209\n",
      "87975\n"
     ]
    }
   ],
   "source": [
    "print(len(df))\n",
    "print(len(df_filtered))"
   ]
  },
  {
   "cell_type": "code",
   "execution_count": 36,
   "metadata": {},
   "outputs": [
    {
     "data": {
      "text/html": [
       "<div>\n",
       "<style>\n",
       "    .dataframe thead tr:only-child th {\n",
       "        text-align: right;\n",
       "    }\n",
       "\n",
       "    .dataframe thead th {\n",
       "        text-align: left;\n",
       "    }\n",
       "\n",
       "    .dataframe tbody tr th {\n",
       "        vertical-align: top;\n",
       "    }\n",
       "</style>\n",
       "<table border=\"1\" class=\"dataframe\">\n",
       "  <thead>\n",
       "    <tr style=\"text-align: right;\">\n",
       "      <th></th>\n",
       "      <th>354186</th>\n",
       "      <th>379878</th>\n",
       "      <th>379879</th>\n",
       "      <th>379884</th>\n",
       "      <th>379885</th>\n",
       "    </tr>\n",
       "  </thead>\n",
       "  <tbody>\n",
       "    <tr>\n",
       "      <th>sr_property_id</th>\n",
       "      <td>38359698</td>\n",
       "      <td>119169079</td>\n",
       "      <td>113580407</td>\n",
       "      <td>122800907</td>\n",
       "      <td>109701857</td>\n",
       "    </tr>\n",
       "    <tr>\n",
       "      <th>SA_PROPERTY_ID</th>\n",
       "      <td>38359698</td>\n",
       "      <td>119169079</td>\n",
       "      <td>113580407</td>\n",
       "      <td>122800907</td>\n",
       "      <td>109701857</td>\n",
       "    </tr>\n",
       "    <tr>\n",
       "      <th>MM_MUNI_NAME</th>\n",
       "      <td>ALAMEDA</td>\n",
       "      <td>ALAMEDA</td>\n",
       "      <td>ALAMEDA</td>\n",
       "      <td>ALAMEDA</td>\n",
       "      <td>ALAMEDA</td>\n",
       "    </tr>\n",
       "    <tr>\n",
       "      <th>MM_FIPS_MUNI_CODE</th>\n",
       "      <td>1</td>\n",
       "      <td>1</td>\n",
       "      <td>1</td>\n",
       "      <td>1</td>\n",
       "      <td>1</td>\n",
       "    </tr>\n",
       "    <tr>\n",
       "      <th>SA_SITE_MAIL_SAME</th>\n",
       "      <td>0</td>\n",
       "      <td>0</td>\n",
       "      <td>1</td>\n",
       "      <td>1</td>\n",
       "      <td>1</td>\n",
       "    </tr>\n",
       "    <tr>\n",
       "      <th>USE_CODE_STD</th>\n",
       "      <td>RSFR</td>\n",
       "      <td>RCON</td>\n",
       "      <td>RSFR</td>\n",
       "      <td>RSFR</td>\n",
       "      <td>RCON</td>\n",
       "    </tr>\n",
       "    <tr>\n",
       "      <th>SA_ZONING</th>\n",
       "      <td>NaN</td>\n",
       "      <td>NaN</td>\n",
       "      <td>NaN</td>\n",
       "      <td>NaN</td>\n",
       "      <td>NaN</td>\n",
       "    </tr>\n",
       "    <tr>\n",
       "      <th>SA_ARCHITECTURE_CODE</th>\n",
       "      <td>NaN</td>\n",
       "      <td>NaN</td>\n",
       "      <td>NaN</td>\n",
       "      <td>NaN</td>\n",
       "      <td>1</td>\n",
       "    </tr>\n",
       "    <tr>\n",
       "      <th>SA_BLDG_SQFT</th>\n",
       "      <td>570</td>\n",
       "      <td>1741</td>\n",
       "      <td>3774</td>\n",
       "      <td>1400</td>\n",
       "      <td>693</td>\n",
       "    </tr>\n",
       "    <tr>\n",
       "      <th>SA_CONSTRUCTION_CODE</th>\n",
       "      <td>4</td>\n",
       "      <td>4</td>\n",
       "      <td>4</td>\n",
       "      <td>4</td>\n",
       "      <td>4</td>\n",
       "    </tr>\n",
       "    <tr>\n",
       "      <th>SA_NBR_BATH_DQ</th>\n",
       "      <td>0</td>\n",
       "      <td>0</td>\n",
       "      <td>0</td>\n",
       "      <td>0</td>\n",
       "      <td>0</td>\n",
       "    </tr>\n",
       "    <tr>\n",
       "      <th>SA_NBR_BEDRMS</th>\n",
       "      <td>1</td>\n",
       "      <td>3</td>\n",
       "      <td>5</td>\n",
       "      <td>2</td>\n",
       "      <td>1</td>\n",
       "    </tr>\n",
       "    <tr>\n",
       "      <th>SA_NBR_UNITS</th>\n",
       "      <td>0</td>\n",
       "      <td>0</td>\n",
       "      <td>0</td>\n",
       "      <td>0</td>\n",
       "      <td>0</td>\n",
       "    </tr>\n",
       "    <tr>\n",
       "      <th>SA_YR_BLT</th>\n",
       "      <td>1934</td>\n",
       "      <td>2006</td>\n",
       "      <td>2006</td>\n",
       "      <td>2008</td>\n",
       "      <td>1987</td>\n",
       "    </tr>\n",
       "    <tr>\n",
       "      <th>SA_YR_BLT_EFFECT</th>\n",
       "      <td>1934</td>\n",
       "      <td>2006</td>\n",
       "      <td>2006</td>\n",
       "      <td>2008</td>\n",
       "      <td>1988</td>\n",
       "    </tr>\n",
       "    <tr>\n",
       "      <th>ucb_geo_id</th>\n",
       "      <td>06001430102</td>\n",
       "      <td>06001408100</td>\n",
       "      <td>06001451101</td>\n",
       "      <td>06001400800</td>\n",
       "      <td>06001441925</td>\n",
       "    </tr>\n",
       "    <tr>\n",
       "      <th>ucb_price_sqft</th>\n",
       "      <td>821</td>\n",
       "      <td>172</td>\n",
       "      <td>209</td>\n",
       "      <td>360</td>\n",
       "      <td>310</td>\n",
       "    </tr>\n",
       "    <tr>\n",
       "      <th>ucb_price_sqft_adj</th>\n",
       "      <td>837</td>\n",
       "      <td>176</td>\n",
       "      <td>214</td>\n",
       "      <td>368</td>\n",
       "      <td>316</td>\n",
       "    </tr>\n",
       "    <tr>\n",
       "      <th>ucb_condo_subdiv_flag</th>\n",
       "      <td>0</td>\n",
       "      <td>0</td>\n",
       "      <td>0</td>\n",
       "      <td>0</td>\n",
       "      <td>0</td>\n",
       "    </tr>\n",
       "    <tr>\n",
       "      <th>ucb_condo_subdiv_sqft</th>\n",
       "      <td>570</td>\n",
       "      <td>1741</td>\n",
       "      <td>3774</td>\n",
       "      <td>1400</td>\n",
       "      <td>693</td>\n",
       "    </tr>\n",
       "    <tr>\n",
       "      <th>sr_date_transfer_year</th>\n",
       "      <td>2009</td>\n",
       "      <td>2009</td>\n",
       "      <td>2009</td>\n",
       "      <td>2009</td>\n",
       "      <td>2009</td>\n",
       "    </tr>\n",
       "    <tr>\n",
       "      <th>after</th>\n",
       "      <td>0</td>\n",
       "      <td>0</td>\n",
       "      <td>0</td>\n",
       "      <td>0</td>\n",
       "      <td>0</td>\n",
       "    </tr>\n",
       "    <tr>\n",
       "      <th>treat</th>\n",
       "      <td>1</td>\n",
       "      <td>0</td>\n",
       "      <td>1</td>\n",
       "      <td>1</td>\n",
       "      <td>0</td>\n",
       "    </tr>\n",
       "    <tr>\n",
       "      <th>age</th>\n",
       "      <td>80</td>\n",
       "      <td>8</td>\n",
       "      <td>8</td>\n",
       "      <td>6</td>\n",
       "      <td>27</td>\n",
       "    </tr>\n",
       "    <tr>\n",
       "      <th>sale_after_construction</th>\n",
       "      <td>1</td>\n",
       "      <td>1</td>\n",
       "      <td>1</td>\n",
       "      <td>1</td>\n",
       "      <td>1</td>\n",
       "    </tr>\n",
       "  </tbody>\n",
       "</table>\n",
       "</div>"
      ],
      "text/plain": [
       "                              354186       379878       379879       379884  \\\n",
       "sr_property_id              38359698    119169079    113580407    122800907   \n",
       "SA_PROPERTY_ID              38359698    119169079    113580407    122800907   \n",
       "MM_MUNI_NAME                 ALAMEDA      ALAMEDA      ALAMEDA      ALAMEDA   \n",
       "MM_FIPS_MUNI_CODE                  1            1            1            1   \n",
       "SA_SITE_MAIL_SAME                  0            0            1            1   \n",
       "USE_CODE_STD                    RSFR         RCON         RSFR         RSFR   \n",
       "SA_ZONING                        NaN          NaN          NaN          NaN   \n",
       "SA_ARCHITECTURE_CODE             NaN          NaN          NaN          NaN   \n",
       "SA_BLDG_SQFT                     570         1741         3774         1400   \n",
       "SA_CONSTRUCTION_CODE               4            4            4            4   \n",
       "SA_NBR_BATH_DQ                     0            0            0            0   \n",
       "SA_NBR_BEDRMS                      1            3            5            2   \n",
       "SA_NBR_UNITS                       0            0            0            0   \n",
       "SA_YR_BLT                       1934         2006         2006         2008   \n",
       "SA_YR_BLT_EFFECT                1934         2006         2006         2008   \n",
       "ucb_geo_id               06001430102  06001408100  06001451101  06001400800   \n",
       "ucb_price_sqft                   821          172          209          360   \n",
       "ucb_price_sqft_adj               837          176          214          368   \n",
       "ucb_condo_subdiv_flag              0            0            0            0   \n",
       "ucb_condo_subdiv_sqft            570         1741         3774         1400   \n",
       "sr_date_transfer_year           2009         2009         2009         2009   \n",
       "after                              0            0            0            0   \n",
       "treat                              1            0            1            1   \n",
       "age                               80            8            8            6   \n",
       "sale_after_construction            1            1            1            1   \n",
       "\n",
       "                              379885  \n",
       "sr_property_id             109701857  \n",
       "SA_PROPERTY_ID             109701857  \n",
       "MM_MUNI_NAME                 ALAMEDA  \n",
       "MM_FIPS_MUNI_CODE                  1  \n",
       "SA_SITE_MAIL_SAME                  1  \n",
       "USE_CODE_STD                    RCON  \n",
       "SA_ZONING                        NaN  \n",
       "SA_ARCHITECTURE_CODE               1  \n",
       "SA_BLDG_SQFT                     693  \n",
       "SA_CONSTRUCTION_CODE               4  \n",
       "SA_NBR_BATH_DQ                     0  \n",
       "SA_NBR_BEDRMS                      1  \n",
       "SA_NBR_UNITS                       0  \n",
       "SA_YR_BLT                       1987  \n",
       "SA_YR_BLT_EFFECT                1988  \n",
       "ucb_geo_id               06001441925  \n",
       "ucb_price_sqft                   310  \n",
       "ucb_price_sqft_adj               316  \n",
       "ucb_condo_subdiv_flag              0  \n",
       "ucb_condo_subdiv_sqft            693  \n",
       "sr_date_transfer_year           2009  \n",
       "after                              0  \n",
       "treat                              0  \n",
       "age                               27  \n",
       "sale_after_construction            1  "
      ]
     },
     "execution_count": 36,
     "metadata": {},
     "output_type": "execute_result"
    }
   ],
   "source": [
    "df[mask_0units].iloc[:5].T"
   ]
  },
  {
   "cell_type": "code",
   "execution_count": null,
   "metadata": {
    "collapsed": true
   },
   "outputs": [],
   "source": []
  },
  {
   "cell_type": "code",
   "execution_count": null,
   "metadata": {
    "collapsed": true
   },
   "outputs": [],
   "source": []
  },
  {
   "cell_type": "code",
   "execution_count": null,
   "metadata": {
    "collapsed": true
   },
   "outputs": [],
   "source": []
  },
  {
   "cell_type": "code",
   "execution_count": null,
   "metadata": {
    "collapsed": true
   },
   "outputs": [],
   "source": []
  },
  {
   "cell_type": "code",
   "execution_count": null,
   "metadata": {
    "collapsed": true
   },
   "outputs": [],
   "source": []
  }
 ],
 "metadata": {
  "kernelspec": {
   "display_name": "Python 3",
   "language": "python",
   "name": "python3"
  },
  "language_info": {
   "codemirror_mode": {
    "name": "ipython",
    "version": 3
   },
   "file_extension": ".py",
   "mimetype": "text/x-python",
   "name": "python",
   "nbconvert_exporter": "python",
   "pygments_lexer": "ipython3",
   "version": "3.6.1"
  }
 },
 "nbformat": 4,
 "nbformat_minor": 2
}
