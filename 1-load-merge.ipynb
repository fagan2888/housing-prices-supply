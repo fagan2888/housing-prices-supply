{
 "cells": [
  {
   "cell_type": "code",
   "execution_count": 1,
   "metadata": {
    "collapsed": true
   },
   "outputs": [],
   "source": [
    "import pandas as pd"
   ]
  },
  {
   "cell_type": "code",
   "execution_count": 2,
   "metadata": {
    "collapsed": true
   },
   "outputs": [],
   "source": [
    "data_folder = 'G:/Geoff/Data/housing-production'\n",
    "\n",
    "sale_property_id = 'sr_property_id'\n",
    "assr_property_id = 'SA_PROPERTY_ID'"
   ]
  },
  {
   "cell_type": "markdown",
   "metadata": {},
   "source": [
    "## Load the data and inspect its shape"
   ]
  },
  {
   "cell_type": "code",
   "execution_count": 3,
   "metadata": {
    "collapsed": true
   },
   "outputs": [],
   "source": [
    "# make the filenames\n",
    "counties = ['alameda', 'contra_costa', 'marin', 'napa', 'san_francisco', 'san_mateo', 'santa_clara', 'solano', 'sonoma']\n",
    "assessor_file_template = '{}/assessor/ARB_ASSR_{}.csv'\n",
    "sales_file_template = '{}/sales/ARB_HIST_{}_v3.csv'\n",
    "assessor_files = [assessor_file_template.format(data_folder, county.upper()) for county in counties]\n",
    "sales_files = [sales_file_template.format(data_folder, county.upper()) for county in counties]"
   ]
  },
  {
   "cell_type": "code",
   "execution_count": 4,
   "metadata": {},
   "outputs": [
    {
     "data": {
      "text/plain": [
       "(2206509, 190)"
      ]
     },
     "execution_count": 4,
     "metadata": {},
     "output_type": "execute_result"
    }
   ],
   "source": [
    "# load assessor data\n",
    "df_from_each_file = (pd.read_csv(file, low_memory=False) for file in assessor_files)\n",
    "df_assr = pd.concat(df_from_each_file, ignore_index=True)\n",
    "df_assr.shape"
   ]
  },
  {
   "cell_type": "code",
   "execution_count": null,
   "metadata": {
    "collapsed": true
   },
   "outputs": [],
   "source": [
    "# load sales data\n",
    "dtypes = {'ucb_geo_id' : str,\n",
    "          'sr_date_transfer' : str}\n",
    "df_from_each_file = (pd.read_csv(file, low_memory=False, dtype=dtypes) for file in sales_files)\n",
    "df_sale = pd.concat(df_from_each_file, ignore_index=True)\n",
    "df_sale.shape"
   ]
  },
  {
   "cell_type": "code",
   "execution_count": null,
   "metadata": {
    "collapsed": true
   },
   "outputs": [],
   "source": [
    "df_sale[sale_property_id].sort_values().head()"
   ]
  },
  {
   "cell_type": "code",
   "execution_count": null,
   "metadata": {
    "collapsed": true
   },
   "outputs": [],
   "source": [
    "df_assr[assr_property_id].sort_values().head()"
   ]
  },
  {
   "cell_type": "markdown",
   "metadata": {},
   "source": [
    "## Merge property sales data with assessor data\n",
    "\n",
    "This attaches unit characteristics to sales records"
   ]
  },
  {
   "cell_type": "code",
   "execution_count": null,
   "metadata": {
    "collapsed": true
   },
   "outputs": [],
   "source": [
    "df = pd.merge(left=df_sale, right=df_assr, how='left', \n",
    "              left_on=sale_property_id, right_on=assr_property_id)"
   ]
  },
  {
   "cell_type": "code",
   "execution_count": null,
   "metadata": {
    "collapsed": true
   },
   "outputs": [],
   "source": [
    "shape = df.shape\n",
    "shape"
   ]
  },
  {
   "cell_type": "markdown",
   "metadata": {},
   "source": [
    "## Filter the dataset to retain only useful columns"
   ]
  },
  {
   "cell_type": "code",
   "execution_count": null,
   "metadata": {
    "collapsed": true
   },
   "outputs": [],
   "source": [
    "retain = ['sr_property_id',        #Unique DataQuick primary key identifier assigned to a property.\n",
    "          'SA_PROPERTY_ID',        #Joined to Assessor data to merge Assessor and Recorder data.  Internal identification number assigned to every property\n",
    "          'MM_MUNI_NAME',          #The full name of the jurisdiction.  \n",
    "          'MM_FIPS_MUNI_CODE',     #Federal Information Processing Standards (FIPS) code for the county.  \n",
    "          'SA_SITE_MAIL_SAME',     #Indicates if the site and mail address are the same, Owner Occupied.  \n",
    "          'USE_CODE_STD',          #The DataQuick property use type code mapped to the jurisdictional use code.\n",
    "          'SA_ZONING',             #The zoning code assigned to a property by a county/city/other government bureau which defines the allowed size, type, structure, nature, and use of property and/or buildings.  This code is not standardized and is subjective to the specific local government regulation.\n",
    "          'SA_ARCHITECTURE_CODE',  #Indicates the architectural style of the structure.\n",
    "          'SA_BLDG_SQFT',          #The square footage of the building/structure on the property.\n",
    "          'SA_CONSTRUCTION_CODE',  #Indicates the material used in the construction of the framework for the structure on the  property.\n",
    "          'SA_NBR_BATH_DQ',        #Indicates the number of baths in real estate terms. For example, a property containing a one quarter bath, half bath and full bath would have an SA_NBR_BATH value of 1.75.  \n",
    "          'SA_NBR_BEDRMS',         #Indicates the number of bedrooms for all structures on the property.\n",
    "          'SA_NBR_UNITS',          #Indicates the total number of units for all structures on the property. This field will include the number of apartment or commercial units.\n",
    "          'SA_YR_BLT',             #Year in which the primary structure was built on the property\n",
    "          'SA_YR_BLT_EFFECT',      #Year in which \"permitted\" major improvements were made to the property\n",
    "          'sr_date_transfer',      #Contains the official filing date for the transaction that is normally stamped or printed on the document\n",
    "          'ucb_geo_id',            #11-character concatenation of the state, county, and census tract FIPS codes\n",
    "          'ucb_price_sqft',        #price per square foot in nominal dollars\n",
    "          'ucb_price_sqft_adj',    #price per square foot adjusted to 2010 dollars using national headline CPI\n",
    "          'ucb_condo_subdiv_flag', #marks a single record saved from a multi-property transaction\n",
    "          'ucb_condo_subdiv_sqft'] #combined square footage from a multi-property transaction\n",
    "\n",
    "df = df[retain]\n",
    "df.shape"
   ]
  },
  {
   "cell_type": "code",
   "execution_count": null,
   "metadata": {
    "collapsed": true
   },
   "outputs": [],
   "source": [
    "df.head()"
   ]
  },
  {
   "cell_type": "code",
   "execution_count": null,
   "metadata": {
    "collapsed": true
   },
   "outputs": [],
   "source": [
    "df.iloc[0]"
   ]
  },
  {
   "cell_type": "code",
   "execution_count": null,
   "metadata": {
    "collapsed": true
   },
   "outputs": [],
   "source": [
    "# save it\n",
    "df.to_csv('{}/merged.csv'.format(data_folder), index=False, encoding='utf-8')"
   ]
  },
  {
   "cell_type": "code",
   "execution_count": null,
   "metadata": {
    "collapsed": true
   },
   "outputs": [],
   "source": []
  }
 ],
 "metadata": {
  "kernelspec": {
   "display_name": "Python 3",
   "language": "python",
   "name": "python3"
  },
  "language_info": {
   "codemirror_mode": {
    "name": "ipython",
    "version": 3
   },
   "file_extension": ".py",
   "mimetype": "text/x-python",
   "name": "python",
   "nbconvert_exporter": "python",
   "pygments_lexer": "ipython3",
   "version": "3.6.1"
  }
 },
 "nbformat": 4,
 "nbformat_minor": 2
}
