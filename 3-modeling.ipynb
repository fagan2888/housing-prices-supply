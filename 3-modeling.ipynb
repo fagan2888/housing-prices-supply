{
 "cells": [
  {
   "cell_type": "code",
   "execution_count": 1,
   "metadata": {
    "collapsed": true
   },
   "outputs": [],
   "source": [
    "import pandas as pd\n",
    "import statsmodels.formula.api as smf"
   ]
  },
  {
   "cell_type": "code",
   "execution_count": 2,
   "metadata": {
    "collapsed": true
   },
   "outputs": [],
   "source": [
    "data_folder = 'G:/Geoff/Data/housing-production'\n",
    "data_file = 'cleaned_features.csv'"
   ]
  },
  {
   "cell_type": "markdown",
   "metadata": {},
   "source": [
    "## Load the data and inspect its shape"
   ]
  },
  {
   "cell_type": "code",
   "execution_count": 3,
   "metadata": {},
   "outputs": [
    {
     "data": {
      "text/plain": [
       "(95209, 25)"
      ]
     },
     "execution_count": 3,
     "metadata": {},
     "output_type": "execute_result"
    }
   ],
   "source": [
    "# load sales+assessor data\n",
    "dtypes = {'ucb_geo_id' : str,\n",
    "          'sr_date_transfer' : str}\n",
    "df = pd.read_csv('{}/{}'.format(data_folder, data_file), low_memory=False, dtype=dtypes)\n",
    "df.shape"
   ]
  },
  {
   "cell_type": "code",
   "execution_count": 4,
   "metadata": {},
   "outputs": [
    {
     "data": {
      "text/html": [
       "<div>\n",
       "<style>\n",
       "    .dataframe thead tr:only-child th {\n",
       "        text-align: right;\n",
       "    }\n",
       "\n",
       "    .dataframe thead th {\n",
       "        text-align: left;\n",
       "    }\n",
       "\n",
       "    .dataframe tbody tr th {\n",
       "        vertical-align: top;\n",
       "    }\n",
       "</style>\n",
       "<table border=\"1\" class=\"dataframe\">\n",
       "  <thead>\n",
       "    <tr style=\"text-align: right;\">\n",
       "      <th></th>\n",
       "      <th>sr_property_id</th>\n",
       "      <th>SA_PROPERTY_ID</th>\n",
       "      <th>MM_MUNI_NAME</th>\n",
       "      <th>MM_FIPS_MUNI_CODE</th>\n",
       "      <th>SA_SITE_MAIL_SAME</th>\n",
       "      <th>USE_CODE_STD</th>\n",
       "      <th>SA_ZONING</th>\n",
       "      <th>SA_ARCHITECTURE_CODE</th>\n",
       "      <th>SA_BLDG_SQFT</th>\n",
       "      <th>SA_CONSTRUCTION_CODE</th>\n",
       "      <th>...</th>\n",
       "      <th>ucb_geo_id</th>\n",
       "      <th>ucb_price_sqft</th>\n",
       "      <th>ucb_price_sqft_adj</th>\n",
       "      <th>ucb_condo_subdiv_flag</th>\n",
       "      <th>ucb_condo_subdiv_sqft</th>\n",
       "      <th>sr_date_transfer_year</th>\n",
       "      <th>after</th>\n",
       "      <th>treat</th>\n",
       "      <th>age</th>\n",
       "      <th>sale_after_construction</th>\n",
       "    </tr>\n",
       "  </thead>\n",
       "  <tbody>\n",
       "    <tr>\n",
       "      <th>0</th>\n",
       "      <td>38359698</td>\n",
       "      <td>38359698</td>\n",
       "      <td>ALAMEDA</td>\n",
       "      <td>1</td>\n",
       "      <td>0</td>\n",
       "      <td>RSFR</td>\n",
       "      <td>NaN</td>\n",
       "      <td>NaN</td>\n",
       "      <td>570.0</td>\n",
       "      <td>4.0</td>\n",
       "      <td>...</td>\n",
       "      <td>06001430102</td>\n",
       "      <td>821</td>\n",
       "      <td>837</td>\n",
       "      <td>0</td>\n",
       "      <td>570</td>\n",
       "      <td>2009</td>\n",
       "      <td>0</td>\n",
       "      <td>1</td>\n",
       "      <td>80.0</td>\n",
       "      <td>1</td>\n",
       "    </tr>\n",
       "    <tr>\n",
       "      <th>1</th>\n",
       "      <td>38151834</td>\n",
       "      <td>38151834</td>\n",
       "      <td>ALAMEDA</td>\n",
       "      <td>1</td>\n",
       "      <td>0</td>\n",
       "      <td>RDUP</td>\n",
       "      <td>NaN</td>\n",
       "      <td>NaN</td>\n",
       "      <td>2625.0</td>\n",
       "      <td>4.0</td>\n",
       "      <td>...</td>\n",
       "      <td>06001402400</td>\n",
       "      <td>47</td>\n",
       "      <td>48</td>\n",
       "      <td>0</td>\n",
       "      <td>2625</td>\n",
       "      <td>2009</td>\n",
       "      <td>0</td>\n",
       "      <td>0</td>\n",
       "      <td>109.0</td>\n",
       "      <td>1</td>\n",
       "    </tr>\n",
       "    <tr>\n",
       "      <th>2</th>\n",
       "      <td>38427337</td>\n",
       "      <td>38427337</td>\n",
       "      <td>ALAMEDA</td>\n",
       "      <td>1</td>\n",
       "      <td>0</td>\n",
       "      <td>RSFR</td>\n",
       "      <td>NaN</td>\n",
       "      <td>NaN</td>\n",
       "      <td>964.0</td>\n",
       "      <td>4.0</td>\n",
       "      <td>...</td>\n",
       "      <td>06001435400</td>\n",
       "      <td>155</td>\n",
       "      <td>159</td>\n",
       "      <td>0</td>\n",
       "      <td>964</td>\n",
       "      <td>2009</td>\n",
       "      <td>0</td>\n",
       "      <td>1</td>\n",
       "      <td>94.0</td>\n",
       "      <td>1</td>\n",
       "    </tr>\n",
       "    <tr>\n",
       "      <th>3</th>\n",
       "      <td>38462773</td>\n",
       "      <td>38462773</td>\n",
       "      <td>ALAMEDA</td>\n",
       "      <td>1</td>\n",
       "      <td>1</td>\n",
       "      <td>RSFR</td>\n",
       "      <td>NaN</td>\n",
       "      <td>NaN</td>\n",
       "      <td>1400.0</td>\n",
       "      <td>4.0</td>\n",
       "      <td>...</td>\n",
       "      <td>06001440200</td>\n",
       "      <td>218</td>\n",
       "      <td>223</td>\n",
       "      <td>0</td>\n",
       "      <td>1400</td>\n",
       "      <td>2009</td>\n",
       "      <td>0</td>\n",
       "      <td>1</td>\n",
       "      <td>76.0</td>\n",
       "      <td>1</td>\n",
       "    </tr>\n",
       "    <tr>\n",
       "      <th>4</th>\n",
       "      <td>38392099</td>\n",
       "      <td>38392099</td>\n",
       "      <td>ALAMEDA</td>\n",
       "      <td>1</td>\n",
       "      <td>0</td>\n",
       "      <td>RSFR</td>\n",
       "      <td>NaN</td>\n",
       "      <td>NaN</td>\n",
       "      <td>1504.0</td>\n",
       "      <td>4.0</td>\n",
       "      <td>...</td>\n",
       "      <td>06001451701</td>\n",
       "      <td>232</td>\n",
       "      <td>237</td>\n",
       "      <td>0</td>\n",
       "      <td>1504</td>\n",
       "      <td>2009</td>\n",
       "      <td>0</td>\n",
       "      <td>1</td>\n",
       "      <td>53.0</td>\n",
       "      <td>1</td>\n",
       "    </tr>\n",
       "  </tbody>\n",
       "</table>\n",
       "<p>5 rows × 25 columns</p>\n",
       "</div>"
      ],
      "text/plain": [
       "   sr_property_id  SA_PROPERTY_ID MM_MUNI_NAME  MM_FIPS_MUNI_CODE  \\\n",
       "0        38359698        38359698      ALAMEDA                  1   \n",
       "1        38151834        38151834      ALAMEDA                  1   \n",
       "2        38427337        38427337      ALAMEDA                  1   \n",
       "3        38462773        38462773      ALAMEDA                  1   \n",
       "4        38392099        38392099      ALAMEDA                  1   \n",
       "\n",
       "   SA_SITE_MAIL_SAME USE_CODE_STD SA_ZONING  SA_ARCHITECTURE_CODE  \\\n",
       "0                  0         RSFR       NaN                   NaN   \n",
       "1                  0         RDUP       NaN                   NaN   \n",
       "2                  0         RSFR       NaN                   NaN   \n",
       "3                  1         RSFR       NaN                   NaN   \n",
       "4                  0         RSFR       NaN                   NaN   \n",
       "\n",
       "   SA_BLDG_SQFT  SA_CONSTRUCTION_CODE           ...              ucb_geo_id  \\\n",
       "0         570.0                   4.0           ...             06001430102   \n",
       "1        2625.0                   4.0           ...             06001402400   \n",
       "2         964.0                   4.0           ...             06001435400   \n",
       "3        1400.0                   4.0           ...             06001440200   \n",
       "4        1504.0                   4.0           ...             06001451701   \n",
       "\n",
       "   ucb_price_sqft  ucb_price_sqft_adj  ucb_condo_subdiv_flag  \\\n",
       "0             821                 837                      0   \n",
       "1              47                  48                      0   \n",
       "2             155                 159                      0   \n",
       "3             218                 223                      0   \n",
       "4             232                 237                      0   \n",
       "\n",
       "   ucb_condo_subdiv_sqft sr_date_transfer_year  after  treat    age  \\\n",
       "0                    570                  2009      0      1   80.0   \n",
       "1                   2625                  2009      0      0  109.0   \n",
       "2                    964                  2009      0      1   94.0   \n",
       "3                   1400                  2009      0      1   76.0   \n",
       "4                   1504                  2009      0      1   53.0   \n",
       "\n",
       "   sale_after_construction  \n",
       "0                        1  \n",
       "1                        1  \n",
       "2                        1  \n",
       "3                        1  \n",
       "4                        1  \n",
       "\n",
       "[5 rows x 25 columns]"
      ]
     },
     "execution_count": 4,
     "metadata": {},
     "output_type": "execute_result"
    }
   ],
   "source": [
    "df.head()"
   ]
  },
  {
   "cell_type": "code",
   "execution_count": 5,
   "metadata": {},
   "outputs": [
    {
     "data": {
      "text/plain": [
       "sr_property_id                38359698\n",
       "SA_PROPERTY_ID                38359698\n",
       "MM_MUNI_NAME                   ALAMEDA\n",
       "MM_FIPS_MUNI_CODE                    1\n",
       "SA_SITE_MAIL_SAME                    0\n",
       "USE_CODE_STD                      RSFR\n",
       "SA_ZONING                          NaN\n",
       "SA_ARCHITECTURE_CODE               NaN\n",
       "SA_BLDG_SQFT                       570\n",
       "SA_CONSTRUCTION_CODE                 4\n",
       "SA_NBR_BATH_DQ                       0\n",
       "SA_NBR_BEDRMS                        1\n",
       "SA_NBR_UNITS                         0\n",
       "SA_YR_BLT                         1934\n",
       "SA_YR_BLT_EFFECT                  1934\n",
       "ucb_geo_id                 06001430102\n",
       "ucb_price_sqft                     821\n",
       "ucb_price_sqft_adj                 837\n",
       "ucb_condo_subdiv_flag                0\n",
       "ucb_condo_subdiv_sqft              570\n",
       "sr_date_transfer_year             2009\n",
       "after                                0\n",
       "treat                                1\n",
       "age                                 80\n",
       "sale_after_construction              1\n",
       "Name: 0, dtype: object"
      ]
     },
     "execution_count": 5,
     "metadata": {},
     "output_type": "execute_result"
    }
   ],
   "source": [
    "df.iloc[0]"
   ]
  },
  {
   "cell_type": "markdown",
   "metadata": {},
   "source": [
    "## Inspect the data"
   ]
  },
  {
   "cell_type": "code",
   "execution_count": 6,
   "metadata": {},
   "outputs": [
    {
     "data": {
      "text/plain": [
       "2009"
      ]
     },
     "execution_count": 6,
     "metadata": {},
     "output_type": "execute_result"
    }
   ],
   "source": [
    "df['sr_date_transfer_year'].min()"
   ]
  },
  {
   "cell_type": "markdown",
   "metadata": {},
   "source": [
    "## Model"
   ]
  },
  {
   "cell_type": "code",
   "execution_count": 7,
   "metadata": {},
   "outputs": [
    {
     "name": "stdout",
     "output_type": "stream",
     "text": [
      "                            OLS Regression Results                            \n",
      "==============================================================================\n",
      "Dep. Variable:     ucb_price_sqft_adj   R-squared:                       0.071\n",
      "Model:                            OLS   Adj. R-squared:                  0.071\n",
      "Method:                 Least Squares   F-statistic:                     2419.\n",
      "Date:                Sun, 13 Aug 2017   Prob (F-statistic):               0.00\n",
      "Time:                        13:57:09   Log-Likelihood:            -6.3043e+05\n",
      "No. Observations:               95209   AIC:                         1.261e+06\n",
      "Df Residuals:                   95205   BIC:                         1.261e+06\n",
      "Df Model:                           3                                         \n",
      "Covariance Type:            nonrobust                                         \n",
      "===============================================================================\n",
      "                  coef    std err          t      P>|t|      [0.025      0.975]\n",
      "-------------------------------------------------------------------------------\n",
      "Intercept     287.4185      1.334    215.474      0.000     284.804     290.033\n",
      "treat         -33.9863      1.548    -21.950      0.000     -37.021     -30.951\n",
      "after         104.6729      2.559     40.907      0.000      99.658     109.688\n",
      "treat:after     8.6856      3.032      2.864      0.004       2.742      14.629\n",
      "==============================================================================\n",
      "Omnibus:                    31287.323   Durbin-Watson:                   1.130\n",
      "Prob(Omnibus):                  0.000   Jarque-Bera (JB):           121322.220\n",
      "Skew:                           1.612   Prob(JB):                         0.00\n",
      "Kurtosis:                       7.492   Cond. No.                         8.86\n",
      "==============================================================================\n",
      "\n",
      "Warnings:\n",
      "[1] Standard Errors assume that the covariance matrix of the errors is correctly specified.\n"
     ]
    }
   ],
   "source": [
    "formula='ucb_price_sqft_adj ~ treat * after'\n",
    "simple_model = smf.ols(formula=formula, data=df)\n",
    "result = simple_model.fit()\n",
    "print(result.summary())"
   ]
  },
  {
   "cell_type": "markdown",
   "metadata": {},
   "source": [
    "#### Now estimate a full model by adding covariates\n",
    "\n",
    "  - building age\n",
    "  - number of units\n",
    "  - number of bedrooms\n",
    "  - number of bathrooms\n",
    "  - building square feet\n",
    "  - land use\n",
    "  - census tract population density\n",
    "  - census tract percent white\n",
    "  - census tract median household income"
   ]
  },
  {
   "cell_type": "code",
   "execution_count": 8,
   "metadata": {},
   "outputs": [
    {
     "name": "stdout",
     "output_type": "stream",
     "text": [
      "                            OLS Regression Results                            \n",
      "==============================================================================\n",
      "Dep. Variable:     ucb_price_sqft_adj   R-squared:                       0.085\n",
      "Model:                            OLS   Adj. R-squared:                  0.085\n",
      "Method:                 Least Squares   F-statistic:                     2195.\n",
      "Date:                Sun, 13 Aug 2017   Prob (F-statistic):               0.00\n",
      "Time:                        13:57:09   Log-Likelihood:            -6.2868e+05\n",
      "No. Observations:               95068   AIC:                         1.257e+06\n",
      "Df Residuals:                   95063   BIC:                         1.257e+06\n",
      "Df Model:                           4                                         \n",
      "Covariance Type:            nonrobust                                         \n",
      "===============================================================================\n",
      "                  coef    std err          t      P>|t|      [0.025      0.975]\n",
      "-------------------------------------------------------------------------------\n",
      "Intercept     258.3360      1.523    169.654      0.000     255.352     261.321\n",
      "treat         -42.2153      1.554    -27.160      0.000     -45.262     -39.169\n",
      "after         101.9433      2.544     40.078      0.000      96.958     106.929\n",
      "treat:after     9.4310      3.012      3.131      0.002       3.527      15.334\n",
      "age             0.8225      0.022     38.071      0.000       0.780       0.865\n",
      "==============================================================================\n",
      "Omnibus:                    29502.866   Durbin-Watson:                   1.180\n",
      "Prob(Omnibus):                  0.000   Jarque-Bera (JB):           111961.592\n",
      "Skew:                           1.523   Prob(JB):                         0.00\n",
      "Kurtosis:                       7.357   Cond. No.                         346.\n",
      "==============================================================================\n",
      "\n",
      "Warnings:\n",
      "[1] Standard Errors assume that the covariance matrix of the errors is correctly specified.\n"
     ]
    }
   ],
   "source": [
    "formula = 'ucb_price_sqft_adj ~ treat * after + age'\n",
    "full_model = smf.ols(formula=formula, data=df)\n",
    "result = full_model.fit()\n",
    "print(result.summary())"
   ]
  }
 ],
 "metadata": {
  "kernelspec": {
   "display_name": "Python 3",
   "language": "python",
   "name": "python3"
  },
  "language_info": {
   "codemirror_mode": {
    "name": "ipython",
    "version": 3
   },
   "file_extension": ".py",
   "mimetype": "text/x-python",
   "name": "python",
   "nbconvert_exporter": "python",
   "pygments_lexer": "ipython3",
   "version": "3.6.1"
  }
 },
 "nbformat": 4,
 "nbformat_minor": 2
}
